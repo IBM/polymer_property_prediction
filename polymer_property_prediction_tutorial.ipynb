{
 "cells": [
  {
   "cell_type": "markdown",
   "id": "266039f8",
   "metadata": {},
   "source": [
    "# Usage tutorial"
   ]
  },
  {
   "cell_type": "markdown",
   "id": "901a5c11",
   "metadata": {},
   "source": [
    "### This is a small tutorial showing how to use our package:"
   ]
  },
  {
   "cell_type": "code",
   "execution_count": 1,
   "id": "37da344c",
   "metadata": {},
   "outputs": [],
   "source": [
    "from polymer_property_prediction import polymer_properties_from_smiles as ppf\n",
    "from polymer_property_prediction import molecule\n",
    "import pandas as pd"
   ]
  },
  {
   "cell_type": "code",
   "execution_count": 2,
   "id": "1f56b073",
   "metadata": {},
   "outputs": [],
   "source": [
    "pd.options.display.max_columns = None"
   ]
  },
  {
   "cell_type": "markdown",
   "id": "c784ce5e",
   "metadata": {},
   "source": [
    "#### calculateMol() is a function that receives an object Molecule and calculates a vast number of polymer properties using other functions that are also in polymer_property_prediction package. Those properties are returned in a pandas DataFrame."
   ]
  },
  {
   "cell_type": "code",
   "execution_count": 3,
   "id": "3926c3fa",
   "metadata": {},
   "outputs": [],
   "source": [
    "molecule = molecule.Molecule(\n",
    "    name='acetic acid',\n",
    "    smiles='[*:1]CC(=O)O[*:2]',\n",
    "    temperature=300,\n",
    "    pressure=200000,\n",
    "    polymer_concentration_wt=0.05,\n",
    "    Mn=3000\n",
    ")"
   ]
  },
  {
   "cell_type": "code",
   "execution_count": 4,
   "id": "90a58681",
   "metadata": {},
   "outputs": [
    {
     "name": "stderr",
     "output_type": "stream",
     "text": [
      "[16:01:18] Molecule does not have explicit Hs. Consider calling AddHs()\n",
      "[16:01:18] Molecule does not have explicit Hs. Consider calling AddHs()\n"
     ]
    }
   ],
   "source": [
    "ppf_df = ppf.calculateMol(molecule)"
   ]
  },
  {
   "cell_type": "code",
   "execution_count": 5,
   "id": "e5705ad7",
   "metadata": {
    "scrolled": false
   },
   "outputs": [
    {
     "data": {
      "text/html": [
       "<div>\n",
       "<style scoped>\n",
       "    .dataframe tbody tr th:only-of-type {\n",
       "        vertical-align: middle;\n",
       "    }\n",
       "\n",
       "    .dataframe tbody tr th {\n",
       "        vertical-align: top;\n",
       "    }\n",
       "\n",
       "    .dataframe thead th {\n",
       "        text-align: right;\n",
       "    }\n",
       "</style>\n",
       "<table border=\"1\" class=\"dataframe\">\n",
       "  <thead>\n",
       "    <tr style=\"text-align: right;\">\n",
       "      <th></th>\n",
       "      <th>polymer_name</th>\n",
       "      <th>opsin_smiles</th>\n",
       "      <th>head_atom</th>\n",
       "      <th>tail_atom</th>\n",
       "      <th>smiles</th>\n",
       "      <th>t_k</th>\n",
       "      <th>p_pa</th>\n",
       "      <th>concentration_wt</th>\n",
       "      <th>mw_gmol</th>\n",
       "      <th>density_at_298_k_gcm3</th>\n",
       "      <th>density_at_t_gcm3</th>\n",
       "      <th>molar_volume_cm3mol</th>\n",
       "      <th>ecoh1_at_298_k_jmol</th>\n",
       "      <th>solub_ratio</th>\n",
       "      <th>fh_parameter</th>\n",
       "      <th>tg_k</th>\n",
       "      <th>water_density_at_p_t_gcm3</th>\n",
       "      <th>water_viscosity_at_t_pas</th>\n",
       "      <th>solution_viscosity_at_t_pas</th>\n",
       "      <th>intrinsic_viscosity_cm3g</th>\n",
       "      <th>temperature_of_half_decomposition_k</th>\n",
       "      <th>bulk_modulus_mpa</th>\n",
       "      <th>youngs_modulus_mpa</th>\n",
       "      <th>shear_modulus_mpa</th>\n",
       "      <th>brittle_fracture_stress_mpa</th>\n",
       "      <th>tensile_yield_stress_mpa</th>\n",
       "      <th>number_hydrogen_bonding</th>\n",
       "      <th>charge_of_counterion</th>\n",
       "      <th>permeability_co2_barrer</th>\n",
       "      <th>permeability_n2_barrer</th>\n",
       "      <th>permeability_o2_barrer</th>\n",
       "      <th>selectivity_co2_n2</th>\n",
       "      <th>selectivity_o2_n2</th>\n",
       "    </tr>\n",
       "  </thead>\n",
       "  <tbody>\n",
       "    <tr>\n",
       "      <th>0</th>\n",
       "      <td>acetic acid</td>\n",
       "      <td>[*:1]CC(=O)O[*:2]</td>\n",
       "      <td>0</td>\n",
       "      <td>3</td>\n",
       "      <td>CC(=O)O</td>\n",
       "      <td>300</td>\n",
       "      <td>200000</td>\n",
       "      <td>0.05</td>\n",
       "      <td>3000</td>\n",
       "      <td>1.3735627259285441</td>\n",
       "      <td>1.3717648523053971</td>\n",
       "      <td>42.22969091476174</td>\n",
       "      <td>22302.94149628473</td>\n",
       "      <td>0.759145185114315</td>\n",
       "      <td>0.723638592777512</td>\n",
       "      <td>290.3039828730006</td>\n",
       "      <td>0.9965089712803212</td>\n",
       "      <td>0.0008537521748058479</td>\n",
       "      <td>0.0008578137694234362</td>\n",
       "      <td>9.497450394256488</td>\n",
       "      <td>641.5289498947542</td>\n",
       "      <td>3632.973354717789</td>\n",
       "      <td>-147681.68207527147</td>\n",
       "      <td>-8923.299412293658</td>\n",
       "      <td>202.376450848023</td>\n",
       "      <td>-4135.087098107601</td>\n",
       "      <td>2</td>\n",
       "      <td>0</td>\n",
       "      <td>0.014828128439996145</td>\n",
       "      <td>0.0008721190509456072</td>\n",
       "      <td>0.00516189691167316</td>\n",
       "      <td>17.0024131727412</td>\n",
       "      <td>5.918798478345704</td>\n",
       "    </tr>\n",
       "  </tbody>\n",
       "</table>\n",
       "</div>"
      ],
      "text/plain": [
       "  polymer_name       opsin_smiles head_atom tail_atom   smiles  t_k    p_pa  \\\n",
       "0  acetic acid  [*:1]CC(=O)O[*:2]         0         3  CC(=O)O  300  200000   \n",
       "\n",
       "  concentration_wt mw_gmol density_at_298_k_gcm3   density_at_t_gcm3  \\\n",
       "0             0.05    3000    1.3735627259285441  1.3717648523053971   \n",
       "\n",
       "  molar_volume_cm3mol ecoh1_at_298_k_jmol        solub_ratio  \\\n",
       "0   42.22969091476174   22302.94149628473  0.759145185114315   \n",
       "\n",
       "        fh_parameter               tg_k water_density_at_p_t_gcm3  \\\n",
       "0  0.723638592777512  290.3039828730006        0.9965089712803212   \n",
       "\n",
       "  water_viscosity_at_t_pas solution_viscosity_at_t_pas  \\\n",
       "0    0.0008537521748058479       0.0008578137694234362   \n",
       "\n",
       "  intrinsic_viscosity_cm3g temperature_of_half_decomposition_k  \\\n",
       "0        9.497450394256488                   641.5289498947542   \n",
       "\n",
       "    bulk_modulus_mpa   youngs_modulus_mpa   shear_modulus_mpa  \\\n",
       "0  3632.973354717789  -147681.68207527147  -8923.299412293658   \n",
       "\n",
       "  brittle_fracture_stress_mpa tensile_yield_stress_mpa  \\\n",
       "0            202.376450848023       -4135.087098107601   \n",
       "\n",
       "  number_hydrogen_bonding charge_of_counterion permeability_co2_barrer  \\\n",
       "0                       2                    0    0.014828128439996145   \n",
       "\n",
       "  permeability_n2_barrer permeability_o2_barrer selectivity_co2_n2  \\\n",
       "0  0.0008721190509456072    0.00516189691167316   17.0024131727412   \n",
       "\n",
       "   selectivity_o2_n2  \n",
       "0  5.918798478345704  "
      ]
     },
     "execution_count": 5,
     "metadata": {},
     "output_type": "execute_result"
    }
   ],
   "source": [
    "ppf_df"
   ]
  },
  {
   "cell_type": "markdown",
   "id": "50bdf8b1",
   "metadata": {},
   "source": [
    "#### If you'd like, you can also use polymer_property_prediction's functions separately, as exemplified below."
   ]
  },
  {
   "cell_type": "code",
   "execution_count": 6,
   "id": "3b178243",
   "metadata": {},
   "outputs": [],
   "source": [
    "smiles_opsin = '[*:1]CC(=O)O[*:2]'"
   ]
  },
  {
   "cell_type": "code",
   "execution_count": 7,
   "id": "d6d414c5",
   "metadata": {},
   "outputs": [
    {
     "data": {
      "text/plain": [
       "'CC(=O)O'"
      ]
     },
     "execution_count": 7,
     "metadata": {},
     "output_type": "execute_result"
    }
   ],
   "source": [
    "ppf.ConvertOpsinToMolSmiles(smiles_opsin)"
   ]
  },
  {
   "cell_type": "code",
   "execution_count": 8,
   "id": "0b3ec75f",
   "metadata": {
    "scrolled": true
   },
   "outputs": [
    {
     "data": {
      "text/plain": [
       "array([0, 3], dtype=int32)"
      ]
     },
     "execution_count": 8,
     "metadata": {},
     "output_type": "execute_result"
    }
   ],
   "source": [
    "ppf.HeadTailAtoms(smiles_opsin)"
   ]
  },
  {
   "cell_type": "code",
   "execution_count": 9,
   "id": "b92b37cf",
   "metadata": {},
   "outputs": [
    {
     "data": {
      "text/plain": [
       "'CC(=O)O'"
      ]
     },
     "execution_count": 9,
     "metadata": {},
     "output_type": "execute_result"
    }
   ],
   "source": [
    "smiles_mol = ppf.ConvertOpsinToMolSmiles(smiles_opsin)\n",
    "smiles_mol"
   ]
  },
  {
   "cell_type": "code",
   "execution_count": 10,
   "id": "75a0648b",
   "metadata": {},
   "outputs": [
    {
     "data": {
      "text/plain": [
       "<rdkit.Chem.rdchem.Mol at 0x7fc413c5ca60>"
      ]
     },
     "execution_count": 10,
     "metadata": {},
     "output_type": "execute_result"
    }
   ],
   "source": [
    "mol = ppf.Chem.MolFromSmiles(smiles_mol)\n",
    "mol"
   ]
  }
 ],
 "metadata": {
  "kernelspec": {
   "display_name": "Python 3 (ipykernel)",
   "language": "python",
   "name": "python3"
  },
  "language_info": {
   "codemirror_mode": {
    "name": "ipython",
    "version": 3
   },
   "file_extension": ".py",
   "mimetype": "text/x-python",
   "name": "python",
   "nbconvert_exporter": "python",
   "pygments_lexer": "ipython3",
   "version": "3.9.6"
  }
 },
 "nbformat": 4,
 "nbformat_minor": 5
}
